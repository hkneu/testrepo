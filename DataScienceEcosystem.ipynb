{
 "cells": [
  {
   "cell_type": "markdown",
   "id": "6a96b711-498b-4e9d-98f5-a6d437933aa8",
   "metadata": {},
   "source": [
    "# Data Science Tools and Ecosystem"
   ]
  },
  {
   "cell_type": "markdown",
   "id": "b86d9bd7-a908-448c-b109-1251d919be55",
   "metadata": {},
   "source": [
    "'''In this notebook, Data Science Tools and Ecosystem are summarized.\r\n"
   ]
  },
  {
   "cell_type": "markdown",
   "id": "e673ec7b-7172-45c6-ab7f-2704784821d5",
   "metadata": {},
   "source": [
    "Some of the popular languages that Data Scientists use are:\n",
    "- Python\n",
    "- R\n",
    "- C++"
   ]
  },
  {
   "cell_type": "markdown",
   "id": "dc9e517b-66ff-47ed-8a89-6efb05cd26b7",
   "metadata": {},
   "source": [
    "<table style=\"width:20%\">\n",
    "<tr>\n",
    "<th>Name</th>\n",
    "<th>Address</th>\n",
    "<th>Salery</th>\n",
    "</tr>\n",
    "<tr>\n",
    "<td>Minister A</td>\n",
    "<td>India</td>\n",
    "<td>4000</td>\n",
    "</tr>\n",
    "<tr>\n",
    "<td>Minister B</td>\n",
    "<td>Singapore</td>\n",
    "<td>8000</td>\n",
    "</tr>"
   ]
  },
  {
   "cell_type": "code",
   "execution_count": 7,
   "id": "5c6f0ff5-b097-40cf-aaca-6620a0ca86c0",
   "metadata": {},
   "outputs": [
    {
     "data": {
      "text/plain": [
       "17"
      ]
     },
     "execution_count": 7,
     "metadata": {},
     "output_type": "execute_result"
    }
   ],
   "source": [
    "(3*4)+5"
   ]
  },
  {
   "cell_type": "code",
   "execution_count": 9,
   "id": "abad9c14-9beb-4190-bf2e-9b6630984c8c",
   "metadata": {},
   "outputs": [
    {
     "data": {
      "text/plain": [
       "3.3333333333333335"
      ]
     },
     "execution_count": 9,
     "metadata": {},
     "output_type": "execute_result"
    }
   ],
   "source": [
    "#This will convert 200 minutes to hours by diving by 60\n",
    "200/60"
   ]
  },
  {
   "cell_type": "code",
   "execution_count": null,
   "id": "4579573f-050b-47f7-a113-fe6c6288a223",
   "metadata": {},
   "outputs": [],
   "source": []
  }
 ],
 "metadata": {
  "kernelspec": {
   "display_name": "Python 3 (ipykernel)",
   "language": "python",
   "name": "python3"
  },
  "language_info": {
   "codemirror_mode": {
    "name": "ipython",
    "version": 3
   },
   "file_extension": ".py",
   "mimetype": "text/x-python",
   "name": "python",
   "nbconvert_exporter": "python",
   "pygments_lexer": "ipython3",
   "version": "3.11.7"
  }
 },
 "nbformat": 4,
 "nbformat_minor": 5
}
